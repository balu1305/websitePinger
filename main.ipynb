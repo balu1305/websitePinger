{
 "cells": [
  {
   "cell_type": "code",
   "execution_count": 6,
   "metadata": {},
   "outputs": [
    {
     "name": "stdout",
     "output_type": "stream",
     "text": [
      "google.com is up!\n",
      "github.com is up!\n",
      "example.com is up!\n"
     ]
    }
   ],
   "source": [
    "import os\n",
    "import platform\n",
    "import time\n",
    "from dotenv import load_dotenv\n",
    "import smtplib\n",
    "from email.mime.text import MIMEText\n",
    "import sqlite3\n",
    "\n",
    "load_dotenv()\n",
    "\n",
    "# Ping function\n",
    "def ping(host):\n",
    "    param = \"-n 1\" if platform.system().lower() == \"windows\" else \"-c 1\"\n",
    "    command = f\"ping {param} {host}\"\n",
    "    response = os.system(command)\n",
    "    return response == 0\n",
    "\n",
    "# Alert function\n",
    "def send_email(subject, body):\n",
    "    sender = \"busdata123@gmail.com\"\n",
    "    receiver = \"bbal1535111@gmail.com\"\n",
    "    password = os.getenv(\"EMAIL_PASSWORD\")\n",
    "    msg = MIMEText(body)\n",
    "    msg[\"Subject\"] = subject\n",
    "    msg[\"From\"] = sender\n",
    "    msg[\"To\"] = receiver\n",
    "    with smtplib.SMTP(\"smtp.gmail.com\", 587) as server:\n",
    "        server.ehlo()  # Can be omitted\n",
    "        server.starttls()\n",
    "        server.ehlo()  # Can be omitted\n",
    "        server.login(sender, password)\n",
    "        server.sendmail(sender, receiver, msg.as_string())\n",
    "\n",
    "# Logging function\n",
    "def log_status(host, status):\n",
    "    conn = sqlite3.connect(\"network_monitor.db\")\n",
    "    cursor = conn.cursor()\n",
    "    cursor.execute(\"CREATE TABLE IF NOT EXISTS server_status (host TEXT, status TEXT, timestamp TEXT)\")\n",
    "    cursor.execute(\"INSERT INTO server_status (host, status, timestamp) VALUES (?, ?, ?)\",\n",
    "                   (host, status, time.strftime(\"%Y-%m-%d %H:%M:%S\")))\n",
    "    conn.commit()\n",
    "    conn.close()\n",
    "\n",
    "\n",
    "# Main monitoring loop\n",
    "def monitor_servers(servers):\n",
    "    # while True:\n",
    "        for server in servers:\n",
    "            if ping(server):\n",
    "                print(f\"{server} is up!\")\n",
    "                log_status(server, \"up\")\n",
    "                send_email(f\"Server Up: {server}\", f\"The server {server} is currently up.\")\n",
    "            else:    \n",
    "                print(f\"{server} is down!\")\n",
    "                log_status(server, \"down\")\n",
    "                send_email(f\"Server Down: {server}\", f\"The server {server} is currently down.\")\n",
    "        # time.sleep(300)  # Check every 5 minutes\n",
    "\n",
    "# Example usage\n",
    "if __name__ == \"__main__\":\n",
    "    servers = [\"google.com\", \"github.com\", \"example.com\"]\n",
    "    monitor_servers(servers)"
   ]
  },
  {
   "cell_type": "code",
   "execution_count": 6,
   "metadata": {},
   "outputs": [],
   "source": [
    "import os\n",
    "from dotenv import load_dotenv\n",
    "from email.mime.text import MIMEText\n",
    "import smtplib\n",
    "\n",
    "# Load environment variables from .env file\n",
    "load_dotenv()\n",
    "\n",
    "# Alert function\n",
    "def send_email(subject, body):\n",
    "    sender = \"busdata123@gmail.com\"\n",
    "    receiver = \"bbal1535111@gmail.com\"\n",
    "    password = os.getenv(\"EMAIL_PASSWORD\")\n",
    "    msg = MIMEText(body)\n",
    "    msg[\"Subject\"] = subject\n",
    "    msg[\"From\"] = sender\n",
    "    msg[\"To\"] = receiver\n",
    "    with smtplib.SMTP(\"smtp.gmail.com\", 587) as server:\n",
    "        server.ehlo()  # Can be omitted\n",
    "        server.starttls()\n",
    "        server.ehlo()  # Can be omitted\n",
    "        server.login(sender, password)\n",
    "        server.sendmail(sender, receiver, msg.as_string())\n",
    "\n",
    "# Test the function\n",
    "send_email(\"Test Email\", \"This is a test email.\")"
   ]
  },
  {
   "cell_type": "code",
   "execution_count": 4,
   "metadata": {},
   "outputs": [],
   "source": [
    "import sqlite3\n",
    "import time\n",
    "\n",
    "# Logging function\n",
    "def log_status(host, status):\n",
    "    conn = sqlite3.connect(\"network_monitor.db\")\n",
    "    cursor = conn.cursor()\n",
    "    cursor.execute(\"CREATE TABLE IF NOT EXISTS server_status (host TEXT, status TEXT, timestamp TEXT)\")\n",
    "    cursor.execute(\"INSERT INTO server_status (host, status, timestamp) VALUES (?, ?, ?)\",\n",
    "                   (host, status, time.strftime(\"%Y-%m-%d %H:%M:%S\")))\n",
    "    conn.commit()\n",
    "    conn.close()\n",
    "\n",
    "# Example usage\n",
    "log_status(\"example.com....\", \"up\")"
   ]
  },
  {
   "cell_type": "code",
   "execution_count": null,
   "metadata": {},
   "outputs": [],
   "source": []
  }
 ],
 "metadata": {
  "kernelspec": {
   "display_name": "Python 3",
   "language": "python",
   "name": "python3"
  },
  "language_info": {
   "codemirror_mode": {
    "name": "ipython",
    "version": 3
   },
   "file_extension": ".py",
   "mimetype": "text/x-python",
   "name": "python",
   "nbconvert_exporter": "python",
   "pygments_lexer": "ipython3",
   "version": "3.12.6"
  }
 },
 "nbformat": 4,
 "nbformat_minor": 2
}
