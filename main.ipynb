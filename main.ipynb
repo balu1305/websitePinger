{
 "cells": [
  {
   "cell_type": "code",
   "execution_count": 9,
   "metadata": {},
   "outputs": [
    {
     "name": "stdout",
     "output_type": "stream",
     "text": [
      "google.com is up!\n",
      "github.com is up!\n",
      "example.com is up!\n"
     ]
    }
   ],
   "source": [
    "import os\n",
    "import platform\n",
    "import time\n",
    "from dotenv import load_dotenv\n",
    "import smtplib\n",
    "from email.mime.text import MIMEText\n",
    "import sqlite3\n",
    "\n",
    "load_dotenv()\n",
    "\n",
    "# Ping function\n",
    "def ping(host):\n",
    "    param = \"-n 1\" if platform.system().lower() == \"windows\" else \"-c 1\"\n",
    "    command = f\"ping {param} {host}\"\n",
    "    response = os.system(command)\n",
    "    return response == 0\n",
    "\n",
    "# Alert function\n",
    "def send_email(subject, body):\n",
    "    sender = \"busdata123@gmail.com\"\n",
    "    receiver = \"bbal1535111@gmail.com\"\n",
    "    password = os.getenv(\"EMAIL_PASSWORD\")\n",
    "    msg = MIMEText(body)\n",
    "    msg[\"Subject\"] = subject\n",
    "    msg[\"From\"] = sender\n",
    "    msg[\"To\"] = receiver\n",
    "    with smtplib.SMTP(\"smtp.gmail.com\", 587) as server:\n",
    "        server.ehlo()  # Can be omitted\n",
    "        server.starttls()\n",
    "        server.ehlo()  # Can be omitted\n",
    "        server.login(sender, password)\n",
    "        server.sendmail(sender, receiver, msg.as_string())\n",
    "\n",
    "# Logging function\n",
    "def log_status(host, status):\n",
    "    conn = sqlite3.connect(\"network_monitor.db\")\n",
    "    cursor = conn.cursor()\n",
    "    cursor.execute(\"CREATE TABLE IF NOT EXISTS server_status (host TEXT, status TEXT, timestamp TEXT)\")\n",
    "    cursor.execute(\"INSERT INTO server_status (host, status, timestamp) VALUES (?, ?, ?)\",\n",
    "                   (host, status, time.strftime(\"%Y-%m-%d %H:%M:%S\")))\n",
    "    conn.commit()\n",
    "    conn.close()\n",
    "\n",
    "\n",
    "# Main monitoring loop\n",
    "def monitor_servers(servers):\n",
    "    # while True:\n",
    "        for server in servers:\n",
    "            if ping(server):\n",
    "                print(f\"{server} is up!\")\n",
    "                log_status(server, \"up\")\n",
    "                send_email(f\"Server Up: {server}\", f\"The server {server} is currently up.\")\n",
    "            else:    \n",
    "                print(f\"{server} is down!\")\n",
    "                log_status(server, \"down\")\n",
    "                send_email(f\"Server Down: {server}\", f\"The server {server} is currently down.\")\n",
    "        # time.sleep(300)  # Check every 5 minutes\n",
    "\n",
    "# Example usage\n",
    "if __name__ == \"__main__\":\n",
    "    servers = [\"google.com\", \"github.com\", \"example.com\"]\n",
    "    monitor_servers(servers)"
   ]
  },
  {
   "cell_type": "code",
   "execution_count": 6,
   "metadata": {},
   "outputs": [],
   "source": [
    "import os\n",
    "from dotenv import load_dotenv\n",
    "from email.mime.text import MIMEText\n",
    "import smtplib\n",
    "\n",
    "# Load environment variables from .env file\n",
    "load_dotenv()\n",
    "\n",
    "# Alert function\n",
    "def send_email(subject, body):\n",
    "    sender = \"busdata123@gmail.com\"\n",
    "    receiver = \"bbal1535111@gmail.com\"\n",
    "    password = os.getenv(\"EMAIL_PASSWORD\")\n",
    "    msg = MIMEText(body)\n",
    "    msg[\"Subject\"] = subject\n",
    "    msg[\"From\"] = sender\n",
    "    msg[\"To\"] = receiver\n",
    "    with smtplib.SMTP(\"smtp.gmail.com\", 587) as server:\n",
    "        server.ehlo()  # Can be omitted\n",
    "        server.starttls()\n",
    "        server.ehlo()  # Can be omitted\n",
    "        server.login(sender, password)\n",
    "        server.sendmail(sender, receiver, msg.as_string())\n",
    "\n",
    "# Test the function\n",
    "send_email(\"Test Email\", \"This is a test email.\")"
   ]
  },
  {
   "cell_type": "code",
   "execution_count": 4,
   "metadata": {},
   "outputs": [],
   "source": [
    "import sqlite3\n",
    "import time\n",
    "\n",
    "# Logging function\n",
    "def log_status(host, status):\n",
    "    conn = sqlite3.connect(\"network_monitor.db\")\n",
    "    cursor = conn.cursor()\n",
    "    cursor.execute(\"CREATE TABLE IF NOT EXISTS server_status (host TEXT, status TEXT, timestamp TEXT)\")\n",
    "    cursor.execute(\"INSERT INTO server_status (host, status, timestamp) VALUES (?, ?, ?)\",\n",
    "                   (host, status, time.strftime(\"%Y-%m-%d %H:%M:%S\")))\n",
    "    conn.commit()\n",
    "    conn.close()\n",
    "\n",
    "# Example usage\n",
    "log_status(\"example.com....\", \"up\")"
   ]
  },
  {
   "cell_type": "code",
   "execution_count": 1,
   "metadata": {},
   "outputs": [
    {
     "name": "stdout",
     "output_type": "stream",
     "text": [
      "Defaulting to user installation because normal site-packages is not writeableNote: you may need to restart the kernel to use updated packages.\n",
      "\n",
      "Collecting Flask\n",
      "  Downloading flask-3.1.0-py3-none-any.whl.metadata (2.7 kB)\n",
      "Collecting Werkzeug>=3.1 (from Flask)\n",
      "  Downloading werkzeug-3.1.3-py3-none-any.whl.metadata (3.7 kB)\n",
      "Collecting Jinja2>=3.1.2 (from Flask)\n",
      "  Downloading jinja2-3.1.5-py3-none-any.whl.metadata (2.6 kB)\n",
      "Collecting itsdangerous>=2.2 (from Flask)\n",
      "  Downloading itsdangerous-2.2.0-py3-none-any.whl.metadata (1.9 kB)\n",
      "Collecting click>=8.1.3 (from Flask)\n",
      "  Downloading click-8.1.8-py3-none-any.whl.metadata (2.3 kB)\n",
      "Collecting blinker>=1.9 (from Flask)\n",
      "  Downloading blinker-1.9.0-py3-none-any.whl.metadata (1.6 kB)\n",
      "Requirement already satisfied: colorama in c:\\users\\t vijaya balaji\\appdata\\roaming\\python\\python312\\site-packages (from click>=8.1.3->Flask) (0.4.6)\n",
      "Collecting MarkupSafe>=2.0 (from Jinja2>=3.1.2->Flask)\n",
      "  Downloading MarkupSafe-3.0.2-cp312-cp312-win_amd64.whl.metadata (4.1 kB)\n",
      "Downloading flask-3.1.0-py3-none-any.whl (102 kB)\n",
      "Downloading blinker-1.9.0-py3-none-any.whl (8.5 kB)\n",
      "Downloading click-8.1.8-py3-none-any.whl (98 kB)\n",
      "Downloading itsdangerous-2.2.0-py3-none-any.whl (16 kB)\n",
      "Downloading jinja2-3.1.5-py3-none-any.whl (134 kB)\n",
      "Downloading werkzeug-3.1.3-py3-none-any.whl (224 kB)\n",
      "Downloading MarkupSafe-3.0.2-cp312-cp312-win_amd64.whl (15 kB)\n",
      "Installing collected packages: MarkupSafe, itsdangerous, click, blinker, Werkzeug, Jinja2, Flask\n",
      "Successfully installed Flask-3.1.0 Jinja2-3.1.5 MarkupSafe-3.0.2 Werkzeug-3.1.3 blinker-1.9.0 click-8.1.8 itsdangerous-2.2.0\n"
     ]
    }
   ],
   "source": [
    "pip install Flask"
   ]
  },
  {
   "cell_type": "code",
   "execution_count": 8,
   "metadata": {},
   "outputs": [
    {
     "name": "stdout",
     "output_type": "stream",
     "text": [
      " * Serving Flask app '__main__'\n",
      " * Debug mode: on\n"
     ]
    },
    {
     "name": "stderr",
     "output_type": "stream",
     "text": [
      "WARNING: This is a development server. Do not use it in a production deployment. Use a production WSGI server instead.\n",
      " * Running on http://127.0.0.1:5000\n",
      "Press CTRL+C to quit\n",
      " * Restarting with stat\n"
     ]
    },
    {
     "ename": "SystemExit",
     "evalue": "1",
     "output_type": "error",
     "traceback": [
      "An exception has occurred, use %tb to see the full traceback.\n",
      "\u001b[1;31mSystemExit\u001b[0m\u001b[1;31m:\u001b[0m 1\n"
     ]
    }
   ],
   "source": [
    "from flask import Flask, render_template\n",
    "import sqlite3\n",
    "\n",
    "app = Flask(__name__)\n",
    "\n",
    "@app.route(\"/\")\n",
    "def dashboard():\n",
    "    conn = sqlite3.connect(\"network_monitor.db\")\n",
    "    cursor = conn.cursor()\n",
    "    cursor.execute(\"SELECT * FROM server_status ORDER BY timestamp DESC\")\n",
    "    data = cursor.fetchall()\n",
    "    conn.close()\n",
    "    return render_template(\"dashboard.html\", data=data)\n",
    "\n",
    "if __name__ == \"__main__\":\n",
    "    app.run(debug=True)"
   ]
  }
 ],
 "metadata": {
  "kernelspec": {
   "display_name": "Python 3",
   "language": "python",
   "name": "python3"
  },
  "language_info": {
   "codemirror_mode": {
    "name": "ipython",
    "version": 3
   },
   "file_extension": ".py",
   "mimetype": "text/x-python",
   "name": "python",
   "nbconvert_exporter": "python",
   "pygments_lexer": "ipython3",
   "version": "3.12.6"
  }
 },
 "nbformat": 4,
 "nbformat_minor": 2
}
